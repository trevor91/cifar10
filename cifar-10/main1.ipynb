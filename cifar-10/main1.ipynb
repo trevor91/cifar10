{
 "cells": [
  {
   "cell_type": "code",
   "execution_count": 1,
   "metadata": {},
   "outputs": [],
   "source": [
    "import torch\n",
    "import torch.nn as nn\n",
    "import torch.nn.functional as F\n",
    "import torch.optim as optim\n",
    "import torch.multiprocessing\n",
    "from torchvision import datasets, transforms"
   ]
  },
  {
   "cell_type": "code",
   "execution_count": 2,
   "metadata": {},
   "outputs": [
    {
     "data": {
      "text/plain": [
       "<torch._C.Generator at 0x205c44ebb70>"
      ]
     },
     "execution_count": 2,
     "metadata": {},
     "output_type": "execute_result"
    }
   ],
   "source": [
    "torch.manual_seed(2018)"
   ]
  },
  {
   "cell_type": "code",
   "execution_count": 3,
   "metadata": {},
   "outputs": [],
   "source": [
    "usd_cuda = torch.cuda.is_available()\n",
    "device = torch.device('cuda')\n",
    "kwargs = {'num_workers':4, 'pin_memory':True}"
   ]
  },
  {
   "cell_type": "code",
   "execution_count": 4,
   "metadata": {},
   "outputs": [],
   "source": [
    "trans = transforms.Compose([\n",
    "    #transforms.Scale(32), # 32by32\n",
    "    transforms.ToTensor(),\n",
    "    transforms.Normalize(mean=(0.5,0.5,0.5), std=(0.5,0.5,0.5))\n",
    "])"
   ]
  },
  {
   "cell_type": "code",
   "execution_count": 5,
   "metadata": {},
   "outputs": [
    {
     "name": "stdout",
     "output_type": "stream",
     "text": [
      "Files already downloaded and verified\n"
     ]
    }
   ],
   "source": [
    "train_loader = torch.utils.data.DataLoader(\n",
    "    datasets.CIFAR10('./data', train = True, download = True,\n",
    "                transform = trans),\n",
    "    batch_size = 256,\n",
    "    shuffle=True,\n",
    "    **kwargs)"
   ]
  },
  {
   "cell_type": "code",
   "execution_count": 6,
   "metadata": {},
   "outputs": [],
   "source": [
    "test_loader = torch.utils.data.DataLoader(\n",
    "    datasets.CIFAR10('./data', train = False, download = False,\n",
    "                transform = trans),\n",
    "    batch_size = 256,\n",
    "    shuffle=True,\n",
    "    **kwargs)"
   ]
  },
  {
   "cell_type": "code",
   "execution_count": 7,
   "metadata": {},
   "outputs": [],
   "source": [
    "#model\n",
    "class Net(nn.Module):\n",
    "    def __init__(self):\n",
    "        super(Net,self).__init__()\n",
    "        self.conv1 = nn.Conv2d(3,10,kernel_size=3)\n",
    "        self.conv2 = nn.Conv2d(10,20, kernel_size=3)\n",
    "        self.conv3 = nn.Conv2d(20,40, kernel_size=3)\n",
    "#         self.conv2_drop = nn.Dropout2d()\n",
    "        self.fc1 = nn.Linear(1440,840)\n",
    "        self.fc2 = nn.Linear(840,160)\n",
    "        self.fc3 = nn.Linear(160,10)\n",
    "\n",
    "    def forward(self, x):\n",
    "        x = F.relu(self.conv1(x),2)\n",
    "#         x = F.relu(F.max_pool2d(self.conv2_drop(self.conv2(x)),2))\n",
    "        x = F.relu(F.max_pool2d(self.conv2(x),2))\n",
    "        x = F.relu(F.max_pool2d(self.conv3(x),2))\n",
    "        \n",
    "        x = x.view(-1,1440)\n",
    "        \n",
    "        x = F.relu(self.fc1(x))\n",
    "#         x = F.dropout(x, training=self.training)\n",
    "        x = F.relu(self.fc2(x))\n",
    "        x = self.fc3(x)\n",
    "        return F.log_softmax(x, dim=1)"
   ]
  },
  {
   "cell_type": "code",
   "execution_count": 8,
   "metadata": {},
   "outputs": [],
   "source": [
    "model = Net().to(device)"
   ]
  },
  {
   "cell_type": "code",
   "execution_count": 9,
   "metadata": {},
   "outputs": [],
   "source": [
    "optimizer = optim.Adam(model.parameters(), lr=0.001)"
   ]
  },
  {
   "cell_type": "code",
   "execution_count": 10,
   "metadata": {},
   "outputs": [],
   "source": [
    "def train(epoch):\n",
    "    model.train()\n",
    "    for batch_idx, (data, target) in enumerate(train_loader):\n",
    "        data, target = data.to(device), target.to(device)\n",
    "        optimizer.zero_grad()\n",
    "        output = model(data)\n",
    "        loss = F.nll_loss(output, target)\n",
    "        loss.backward()\n",
    "        optimizer.step()\n",
    "#         if batch_idx % 1000:\n",
    "#             print('Train Epoch: {} [{}/{} ({:.0f}%)]\\tLoss: {:.6f}'. format(\n",
    "#                 epoch, batch_idx * len(data), len(train_loader.dataset),\n",
    "#                 100.*batch_idx / len(train_loader), loss.item()))"
   ]
  },
  {
   "cell_type": "code",
   "execution_count": 11,
   "metadata": {},
   "outputs": [],
   "source": [
    "def test():\n",
    "    model.eval()\n",
    "    test_loss = 0\n",
    "    correct = 0\n",
    "    with torch.no_grad():\n",
    "        for data, target in test_loader:\n",
    "            data, target = data.to(device), target.to(device)\n",
    "            output = model(data)\n",
    "            test_loss += F.nll_loss(output, target, size_average=False).item()\n",
    "            pred = output.max(1, keepdim = True)[1]\n",
    "            correct += pred.eq(target.view_as(pred)).sum().item()\n",
    "\n",
    "        test_loss /= len(test_loader.dataset)\n",
    "        print('\\nTest set: average loss: {:.4f}, Accuracy: {}/{} ({:.0f}%)\\n'.format(\n",
    "            test_loss, correct, len(test_loader.dataset),\n",
    "            100. * correct / len(test_loader.dataset)))"
   ]
  },
  {
   "cell_type": "code",
   "execution_count": 12,
   "metadata": {
    "scrolled": true
   },
   "outputs": [
    {
     "name": "stdout",
     "output_type": "stream",
     "text": [
      "\n",
      "Test set: average loss: 1.4620, Accuracy: 4700/10000 (47%)\n",
      "\n",
      "\n",
      "Test set: average loss: 1.2031, Accuracy: 5689/10000 (57%)\n",
      "\n",
      "\n",
      "Test set: average loss: 1.0733, Accuracy: 6179/10000 (62%)\n",
      "\n",
      "\n",
      "Test set: average loss: 0.9831, Accuracy: 6496/10000 (65%)\n",
      "\n",
      "\n",
      "Test set: average loss: 0.9368, Accuracy: 6701/10000 (67%)\n",
      "\n",
      "\n",
      "Test set: average loss: 0.8936, Accuracy: 6852/10000 (69%)\n",
      "\n",
      "\n",
      "Test set: average loss: 0.9226, Accuracy: 6764/10000 (68%)\n",
      "\n",
      "\n",
      "Test set: average loss: 0.8598, Accuracy: 7067/10000 (71%)\n",
      "\n",
      "\n",
      "Test set: average loss: 0.8697, Accuracy: 7122/10000 (71%)\n",
      "\n",
      "\n",
      "Test set: average loss: 0.9683, Accuracy: 7041/10000 (70%)\n",
      "\n",
      "\n",
      "Test set: average loss: 0.9155, Accuracy: 7141/10000 (71%)\n",
      "\n",
      "\n",
      "Test set: average loss: 1.0397, Accuracy: 7078/10000 (71%)\n",
      "\n",
      "\n",
      "Test set: average loss: 1.1277, Accuracy: 7131/10000 (71%)\n",
      "\n",
      "\n",
      "Test set: average loss: 1.2336, Accuracy: 7142/10000 (71%)\n",
      "\n",
      "\n",
      "Test set: average loss: 1.3839, Accuracy: 7073/10000 (71%)\n",
      "\n",
      "\n",
      "Test set: average loss: 1.5855, Accuracy: 6978/10000 (70%)\n",
      "\n",
      "\n",
      "Test set: average loss: 1.6865, Accuracy: 7081/10000 (71%)\n",
      "\n",
      "\n",
      "Test set: average loss: 1.7613, Accuracy: 7076/10000 (71%)\n",
      "\n",
      "\n",
      "Test set: average loss: 1.8849, Accuracy: 7077/10000 (71%)\n",
      "\n",
      "\n",
      "Test set: average loss: 1.9794, Accuracy: 6896/10000 (69%)\n",
      "\n",
      "\n",
      "Test set: average loss: 1.9823, Accuracy: 6989/10000 (70%)\n",
      "\n",
      "\n",
      "Test set: average loss: 1.9546, Accuracy: 7104/10000 (71%)\n",
      "\n",
      "\n",
      "Test set: average loss: 2.0944, Accuracy: 7082/10000 (71%)\n",
      "\n",
      "\n",
      "Test set: average loss: 2.2026, Accuracy: 7026/10000 (70%)\n",
      "\n",
      "\n",
      "Test set: average loss: 2.1143, Accuracy: 7026/10000 (70%)\n",
      "\n",
      "\n",
      "Test set: average loss: 2.1303, Accuracy: 7070/10000 (71%)\n",
      "\n",
      "\n",
      "Test set: average loss: 2.4383, Accuracy: 6909/10000 (69%)\n",
      "\n",
      "\n",
      "Test set: average loss: 2.1357, Accuracy: 7096/10000 (71%)\n",
      "\n",
      "\n",
      "Test set: average loss: 2.3340, Accuracy: 7108/10000 (71%)\n",
      "\n",
      "\n",
      "Test set: average loss: 2.4208, Accuracy: 7082/10000 (71%)\n",
      "\n"
     ]
    },
    {
     "name": "stderr",
     "output_type": "stream",
     "text": [
      "C:\\ProgramData\\Anaconda3\\lib\\site-packages\\torch\\serialization.py:193: UserWarning: Couldn't retrieve source code for container of type Net. It won't be checked for correctness upon loading.\n",
      "  \"type \" + obj.__name__ + \". It won't be checked \"\n"
     ]
    }
   ],
   "source": [
    "for epoch in range(1,31):\n",
    "    train(epoch)\n",
    "    test()\n",
    "else:\n",
    "    torch.save(model, 'main1.pt')"
   ]
  },
  {
   "cell_type": "markdown",
   "metadata": {},
   "source": [
    "<h3>Kaggle data</h3>"
   ]
  },
  {
   "cell_type": "code",
   "execution_count": 16,
   "metadata": {},
   "outputs": [],
   "source": [
    "image_data = datasets.ImageFolder('./data/test/', transform=trans)\n",
    "kaggle_loader = torch.utils.data.DataLoader(image_data,\n",
    "                                            batch_size=256,\n",
    "                                            shuffle = False,\n",
    "                                           num_workers = 8)"
   ]
  },
  {
   "cell_type": "code",
   "execution_count": 27,
   "metadata": {},
   "outputs": [],
   "source": [
    "CLASSES = [\"airplane\",\"automobile\",\"bird\",\"cat\",\"deer\",\"dog\",\"frog\",\"horse\",\"ship\",\"truck\"]"
   ]
  },
  {
   "cell_type": "code",
   "execution_count": 28,
   "metadata": {},
   "outputs": [
    {
     "ename": "TypeError",
     "evalue": "only integer tensors of a single element can be converted to an index",
     "output_type": "error",
     "traceback": [
      "\u001b[1;31m---------------------------------------------------------------------------\u001b[0m",
      "\u001b[1;31mTypeError\u001b[0m                                 Traceback (most recent call last)",
      "\u001b[1;32m<ipython-input-28-b3df1a40ceea>\u001b[0m in \u001b[0;36m<module>\u001b[1;34m()\u001b[0m\n\u001b[0;32m      4\u001b[0m     \u001b[0moutput\u001b[0m \u001b[1;33m=\u001b[0m \u001b[0mmodel\u001b[0m\u001b[1;33m(\u001b[0m\u001b[0mdata\u001b[0m\u001b[1;33m)\u001b[0m\u001b[1;33m\u001b[0m\u001b[0m\n\u001b[0;32m      5\u001b[0m     \u001b[0mpred\u001b[0m \u001b[1;33m=\u001b[0m \u001b[0moutput\u001b[0m\u001b[1;33m.\u001b[0m\u001b[0mmax\u001b[0m\u001b[1;33m(\u001b[0m\u001b[1;36m1\u001b[0m\u001b[1;33m,\u001b[0m \u001b[0mkeepdim\u001b[0m \u001b[1;33m=\u001b[0m \u001b[1;32mTrue\u001b[0m\u001b[1;33m)\u001b[0m\u001b[1;33m[\u001b[0m\u001b[1;36m1\u001b[0m\u001b[1;33m]\u001b[0m\u001b[1;33m\u001b[0m\u001b[0m\n\u001b[1;32m----> 6\u001b[1;33m     \u001b[0mprint\u001b[0m\u001b[1;33m(\u001b[0m\u001b[0mCLASSES\u001b[0m\u001b[1;33m[\u001b[0m\u001b[0mpred\u001b[0m\u001b[1;33m]\u001b[0m\u001b[1;33m)\u001b[0m\u001b[1;33m\u001b[0m\u001b[0m\n\u001b[0m\u001b[0;32m      7\u001b[0m     \u001b[1;32mbreak\u001b[0m\u001b[1;33m\u001b[0m\u001b[0m\n",
      "\u001b[1;31mTypeError\u001b[0m: only integer tensors of a single element can be converted to an index"
     ]
    }
   ],
   "source": [
    "model.eval()\n",
    "for data, target in kaggle_loader:\n",
    "    data = data.to(device)\n",
    "    output = model(data)\n",
    "    pred = output.max(1, keepdim = True)[1]\n",
    "    print(CLASSES[pred])\n",
    "    break"
   ]
  },
  {
   "cell_type": "code",
   "execution_count": null,
   "metadata": {},
   "outputs": [],
   "source": []
  }
 ],
 "metadata": {
  "kernelspec": {
   "display_name": "Python 3",
   "language": "python",
   "name": "python3"
  },
  "language_info": {
   "codemirror_mode": {
    "name": "ipython",
    "version": 3
   },
   "file_extension": ".py",
   "mimetype": "text/x-python",
   "name": "python",
   "nbconvert_exporter": "python",
   "pygments_lexer": "ipython3",
   "version": "3.5.5"
  }
 },
 "nbformat": 4,
 "nbformat_minor": 2
}
